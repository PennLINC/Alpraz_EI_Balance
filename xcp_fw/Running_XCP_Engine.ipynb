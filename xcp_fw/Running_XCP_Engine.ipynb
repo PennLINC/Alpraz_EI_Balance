{
 "cells": [
  {
   "cell_type": "markdown",
   "metadata": {},
   "source": [
    "Walk through of how to run XCP Engine for GRMPY_822831"
   ]
  },
  {
   "cell_type": "code",
   "execution_count": 7,
   "metadata": {
    "scrolled": true
   },
   "outputs": [
    {
     "ename": "ImportError",
     "evalue": "cannot import name Model",
     "output_type": "error",
     "traceback": [
      "\u001b[0;31m---------------------------------------------------------------------------\u001b[0m",
      "\u001b[0;31mImportError\u001b[0m                               Traceback (most recent call last)",
      "\u001b[0;32m<ipython-input-7-e076a39e27eb>\u001b[0m in \u001b[0;36m<module>\u001b[0;34m()\u001b[0m\n\u001b[0;32m----> 1\u001b[0;31m \u001b[0;32mimport\u001b[0m \u001b[0mflywheel\u001b[0m\u001b[0;34m\u001b[0m\u001b[0m\n\u001b[0m\u001b[1;32m      2\u001b[0m \u001b[0;32mimport\u001b[0m \u001b[0mdatetime\u001b[0m\u001b[0;34m\u001b[0m\u001b[0m\n\u001b[1;32m      3\u001b[0m \u001b[0;32mimport\u001b[0m \u001b[0mpytz\u001b[0m\u001b[0;34m\u001b[0m\u001b[0m\n\u001b[1;32m      4\u001b[0m \u001b[0;34m\u001b[0m\u001b[0m\n\u001b[1;32m      5\u001b[0m \u001b[0mfw\u001b[0m \u001b[0;34m=\u001b[0m \u001b[0mflywheel\u001b[0m\u001b[0;34m.\u001b[0m\u001b[0mClient\u001b[0m\u001b[0;34m(\u001b[0m\u001b[0;34m)\u001b[0m\u001b[0;34m\u001b[0m\u001b[0m\n",
      "\u001b[0;32m/Users/larsenb/software/anaconda2/lib/python2.7/site-packages/flywheel/__init__.py\u001b[0m in \u001b[0;36m<module>\u001b[0;34m()\u001b[0m\n\u001b[1;32m      6\u001b[0m \u001b[0;32mfrom\u001b[0m \u001b[0;34m.\u001b[0m\u001b[0mfields\u001b[0m \u001b[0;32mimport\u001b[0m \u001b[0mField\u001b[0m\u001b[0;34m,\u001b[0m \u001b[0mComposite\u001b[0m\u001b[0;34m,\u001b[0m \u001b[0mGlobalIndex\u001b[0m\u001b[0;34m\u001b[0m\u001b[0m\n\u001b[1;32m      7\u001b[0m \u001b[0;32mfrom\u001b[0m \u001b[0;34m.\u001b[0m\u001b[0mfields\u001b[0m\u001b[0;34m.\u001b[0m\u001b[0mtypes\u001b[0m \u001b[0;32mimport\u001b[0m \u001b[0mset_\u001b[0m\u001b[0;34m,\u001b[0m \u001b[0mTypeDefinition\u001b[0m\u001b[0;34m\u001b[0m\u001b[0m\n\u001b[0;32m----> 8\u001b[0;31m \u001b[0;32mfrom\u001b[0m \u001b[0;34m.\u001b[0m\u001b[0mmodels\u001b[0m \u001b[0;32mimport\u001b[0m \u001b[0mModel\u001b[0m\u001b[0;34m\u001b[0m\u001b[0m\n\u001b[0m\u001b[1;32m      9\u001b[0m \u001b[0;32mfrom\u001b[0m \u001b[0;34m.\u001b[0m\u001b[0mengine\u001b[0m \u001b[0;32mimport\u001b[0m \u001b[0mEngine\u001b[0m\u001b[0;34m\u001b[0m\u001b[0m\n\u001b[1;32m     10\u001b[0m \u001b[0;32mfrom\u001b[0m \u001b[0;34m.\u001b[0m\u001b[0mquery\u001b[0m \u001b[0;32mimport\u001b[0m \u001b[0mDuplicateEntityException\u001b[0m\u001b[0;34m,\u001b[0m \u001b[0mEntityNotFoundException\u001b[0m\u001b[0;34m\u001b[0m\u001b[0m\n",
      "\u001b[0;31mImportError\u001b[0m: cannot import name Model"
     ]
    }
   ],
   "source": [
    "import flywheel\n",
    "import datetime\n",
    "import pytz\n",
    "\n",
    "fw = flywheel.Client()\n",
    "proj = fw.lookup('bbl/ALPRAZ_805556')\n",
    "sessions = proj.sessions()\n",
    "sessions = [fw.get(x.id) for x in sessions]"
   ]
  },
  {
   "cell_type": "markdown",
   "metadata": {},
   "source": [
    "Each session has an `fmriprep` analysis attached (if it was successful). How do we know they were successful?"
   ]
  },
  {
   "cell_type": "code",
   "execution_count": 3,
   "metadata": {
    "scrolled": true
   },
   "outputs": [
    {
     "ename": "NameError",
     "evalue": "name 'sessions' is not defined",
     "output_type": "error",
     "traceback": [
      "\u001b[0;31m---------------------------------------------------------------------------\u001b[0m",
      "\u001b[0;31mNameError\u001b[0m                                 Traceback (most recent call last)",
      "\u001b[0;32m<ipython-input-3-6c0be42e7a56>\u001b[0m in \u001b[0;36m<module>\u001b[0;34m()\u001b[0m\n\u001b[0;32m----> 1\u001b[0;31m \u001b[0msessions\u001b[0m\u001b[0;34m[\u001b[0m\u001b[0;36m0\u001b[0m\u001b[0;34m]\u001b[0m\u001b[0;34m.\u001b[0m\u001b[0manalyses\u001b[0m\u001b[0;34m[\u001b[0m\u001b[0;36m0\u001b[0m\u001b[0;34m]\u001b[0m \u001b[0;31m# check analysis the firts\u001b[0m\u001b[0;34m\u001b[0m\u001b[0m\n\u001b[0m",
      "\u001b[0;31mNameError\u001b[0m: name 'sessions' is not defined"
     ]
    }
   ],
   "source": [
    "sessions[0].analyses[0] # check analysis the firts"
   ]
  },
  {
   "cell_type": "code",
   "execution_count": 86,
   "metadata": {},
   "outputs": [
    {
     "data": {
      "text/plain": [
       "'02204_task.zip'"
      ]
     },
     "execution_count": 86,
     "metadata": {},
     "output_type": "execute_result"
    }
   ],
   "source": [
    "sessions[4].files[2].name # check task name for subject 5"
   ]
  },
  {
   "cell_type": "markdown",
   "metadata": {},
   "source": [
    "Analyses have attributes such as `state` and `info`:"
   ]
  },
  {
   "cell_type": "code",
   "execution_count": 87,
   "metadata": {},
   "outputs": [
    {
     "data": {
      "text/plain": [
       "[({'category': 'analysis',\n",
       "   'id': '5da887766cbeb000b47d028e',\n",
       "   'name': 'fmriprep-hpc',\n",
       "   'version': '0.1.26_1.2.6-1'}, 'cancelled'), ({'category': 'analysis',\n",
       "   'id': '5da887766cbeb000b47d028e',\n",
       "   'name': 'fmriprep-hpc',\n",
       "   'version': '0.1.26_1.2.6-1'}, 'failed'), ({'category': 'analysis',\n",
       "   'id': '5da887766cbeb000b47d028e',\n",
       "   'name': 'fmriprep-hpc',\n",
       "   'version': '0.1.26_1.2.6-1'}, 'failed'), ({'category': 'analysis',\n",
       "   'id': '5da887766cbeb000b47d028e',\n",
       "   'name': 'fmriprep-hpc',\n",
       "   'version': '0.1.26_1.2.6-1'}, 'cancelled'), ({'category': 'analysis',\n",
       "   'id': '5da886fa6cbeb000b47d0200',\n",
       "   'name': 'fmriprep',\n",
       "   'version': '0.1.26_1.2.6-1'}, 'complete'), ({'category': 'analysis',\n",
       "   'id': '5e0ea8a73a9694007a68028a',\n",
       "   'name': 'fmriprep-fwheudiconv',\n",
       "   'version': '0.2.2_1.5.2'}, 'complete'), ({'category': 'analysis',\n",
       "   'id': '5da887766cbeb000b47d028e',\n",
       "   'name': 'fmriprep-hpc',\n",
       "   'version': '0.1.26_1.2.6-1'}, 'complete'), ({'category': 'analysis',\n",
       "   'id': '5e3c2b176dea317b222a7404',\n",
       "   'name': 'xcpengine-fw',\n",
       "   'version': '1.0641'}, 'complete'), ({'category': 'analysis',\n",
       "   'id': '5e3c2b176dea317b222a7404',\n",
       "   'name': 'xcpengine-fw',\n",
       "   'version': '1.0641'}, 'complete'), ({'category': 'analysis',\n",
       "   'id': '5e769beb7204d510e7cfcf81',\n",
       "   'name': 'xcpengine-fw',\n",
       "   'version': '0.0.1_1.00'}, 'cancelled')]"
      ]
     },
     "execution_count": 87,
     "metadata": {},
     "output_type": "execute_result"
    }
   ],
   "source": [
    "[(x.gear_info, x.job.state) for x in sessions[0].analyses] # check fmriprep"
   ]
  },
  {
   "cell_type": "markdown",
   "metadata": {},
   "source": [
    "We write a function that loops through the analyses of a session, checks if `fmriprep` ran successfully, and returns the most recent successful `fmriprep` analysis."
   ]
  },
  {
   "cell_type": "code",
   "execution_count": 88,
   "metadata": {},
   "outputs": [],
   "source": [
    "def get_latest_fmriprep(session):\n",
    "    \n",
    "    if session.analyses:\n",
    "        \n",
    "        timezone = pytz.timezone(\"UTC\")\n",
    "        init_date = datetime.datetime(2018, 1, 1)\n",
    "        latest_date = timezone.localize(init_date)\n",
    "\n",
    "        latest_run = None\n",
    "\n",
    "        for i in session.analyses:\n",
    "            gear_name = i.gear_info['name']\n",
    "            state = i.job.state\n",
    "            date = i.created\n",
    "            if 'fmriprep' in gear_name and date > latest_date and state =='complete':\n",
    "                latest_date = date\n",
    "                latest_run = i\n",
    "        \n",
    "        if latest_run is not None:\n",
    "            fmriprep_out = [x for x in latest_run.files if 'fmriprep' in x.name][0]\n",
    "            fmriprep_out\n",
    "            return(fmriprep_out)\n",
    "\n",
    "        else:\n",
    "            return None\n",
    "\n",
    "    else:\n",
    "        return None"
   ]
  },
  {
   "cell_type": "code",
   "execution_count": 89,
   "metadata": {
    "scrolled": true
   },
   "outputs": [
    {
     "data": {
      "text/plain": [
       "{'classification': {},\n",
       " 'created': datetime.datetime(2020, 1, 31, 0, 48, 9, 919000, tzinfo=tzutc()),\n",
       " 'hash': 'v0-sha384-8d21ef7eb30379db741f17eff5a3ecf545f31cf1a346d8867220e358a6fa6d2eaf0e569f8ebe8f1229a16c884fadfd0f',\n",
       " 'id': '506d460a-7204-40b4-b213-0a6c8d1fc330',\n",
       " 'info': {},\n",
       " 'info_exists': None,\n",
       " 'mimetype': 'application/zip',\n",
       " 'modality': None,\n",
       " 'modified': datetime.datetime(2020, 1, 31, 0, 48, 9, 919000, tzinfo=tzutc()),\n",
       " 'name': 'fmriprep_sub-014665_5e32fccf6dea3102562a7432.zip',\n",
       " 'origin': {'id': '5e32fccf6dea3102562a7433',\n",
       "            'method': None,\n",
       "            'name': None,\n",
       "            'type': 'job',\n",
       "            'via': None},\n",
       " 'replaced': None,\n",
       " 'size': 1393564803,\n",
       " 'tags': [],\n",
       " 'type': 'archive',\n",
       " 'zip_member_count': None}"
      ]
     },
     "execution_count": 89,
     "metadata": {},
     "output_type": "execute_result"
    }
   ],
   "source": [
    "latest_fmriprep = get_latest_fmriprep(sessions[0])\n",
    "latest_fmriprep"
   ]
  },
  {
   "cell_type": "code",
   "execution_count": 111,
   "metadata": {},
   "outputs": [],
   "source": [
    "#get task file \n",
    "def get_taskfile(session):\n",
    "    for i in range(len(session.files)):\n",
    "        if session.files[i].name.endswith('task.zip'):\n",
    "            taskfile=session.files[i]\n",
    "        else:\n",
    "            taskfile=None\n",
    "    return taskfile\n"
   ]
  },
  {
   "cell_type": "code",
   "execution_count": 113,
   "metadata": {},
   "outputs": [
    {
     "data": {
      "text/plain": [
       "{'classification': {},\n",
       " 'created': datetime.datetime(2020, 2, 6, 15, 32, 9, 243000, tzinfo=tzutc()),\n",
       " 'hash': 'v0-sha384-ec45f3bf56cdbfbb88e1a4d7da47ea50888dc9264686b3c9bef84f23f989d657ed009149429c5527828df8beee602a6a',\n",
       " 'id': 'efbbb19e-e2f8-4c40-81ec-16721314bfd9',\n",
       " 'info': {},\n",
       " 'info_exists': None,\n",
       " 'mimetype': 'application/zip',\n",
       " 'modality': None,\n",
       " 'modified': datetime.datetime(2020, 2, 6, 15, 32, 8, 860000, tzinfo=tzutc()),\n",
       " 'name': '02166_task.zip',\n",
       " 'origin': {'id': 'ttapera@upenn.edu',\n",
       "            'method': None,\n",
       "            'name': None,\n",
       "            'type': 'user',\n",
       "            'via': None},\n",
       " 'replaced': None,\n",
       " 'size': 14395,\n",
       " 'tags': [],\n",
       " 'type': 'archive',\n",
       " 'zip_member_count': None}"
      ]
     },
     "execution_count": 113,
     "metadata": {},
     "output_type": "execute_result"
    }
   ],
   "source": [
    "d=get_taskfile(sessions[7])\n",
    "d"
   ]
  },
  {
   "cell_type": "markdown",
   "metadata": {},
   "source": [
    "Now, we fetch XCP:"
   ]
  },
  {
   "cell_type": "code",
   "execution_count": 92,
   "metadata": {},
   "outputs": [],
   "source": [
    "xcp = fw.lookup('gears/xcpengine-fw')"
   ]
  },
  {
   "cell_type": "code",
   "execution_count": 93,
   "metadata": {},
   "outputs": [
    {
     "data": {
      "text/plain": [
       "{'category': 'analysis',\n",
       " 'created': datetime.datetime(2020, 3, 21, 22, 57, 47, 163000, tzinfo=tzutc()),\n",
       " 'exchange': {'git_commit': None,\n",
       "              'rootfs_hash': None,\n",
       "              'rootfs_url': 'docker://upenn.flywheel.io/xcpengine-fw@sha256:fc2a0eba63e6d572d5f2ebaf97b4087d8189b5a449a93e597bd2fc9d24af021a'},\n",
       " 'gear': {'author': 'Ted Satterthwaite',\n",
       "          'cite': 'Ciric, Rastko and Rosen, Adon F. G. and Erus, Guray and '\n",
       "                  'Cieslak, Matthew and Adebimpe, Azeez and Cook, Philip A. '\n",
       "                  'and Bassett, Danielle S. and Davatzikos, Christos and Wolf, '\n",
       "                  'Daniel H. and Satterthwaite, Theodore D., Mitigating head '\n",
       "                  'motion artifact in functional connectivity MRI',\n",
       "          'command': None,\n",
       "          'config': {'analysis_type': {'default': 'xcp',\n",
       "                                       'description': ' analysis type: '\n",
       "                                                      '[fc,struc,task,cbf]',\n",
       "                                       'type': 'string'},\n",
       "                     'task_name': {'default': '',\n",
       "                                   'description': ' name of the task to '\n",
       "                                                  'perform either task '\n",
       "                                                  'regression or task ',\n",
       "                                   'type': 'string'}},\n",
       "          'custom': {'flywheel': {'suite': 'PennBBL'},\n",
       "                     'gear-builder': {'category': 'analysis',\n",
       "                                      'image': 'pennbbl/xcpengine'}},\n",
       "          'description': ' The XCP imaging pipeline (XCP system) for  '\n",
       "                         'preprocessing of structural and functional data.',\n",
       "          'environment': None,\n",
       "          'inputs': {'antsct': {'base': 'file',\n",
       "                                'description': 'Structural output directory',\n",
       "                                'optional': True},\n",
       "                     'api_key': {'base': 'api-key'},\n",
       "                     'custom_regressors': {'base': 'file',\n",
       "                                           'description': 'custom regressors '\n",
       "                                                          'already convolved '\n",
       "                                                          'with hrf',\n",
       "                                           'optional': True},\n",
       "                     'designfile': {'base': 'file',\n",
       "                                    'description': 'designfile: list all '\n",
       "                                                   'modules to run'},\n",
       "                     'fmriprepdir': {'base': 'file',\n",
       "                                     'description': 'FMRIprep output directory',\n",
       "                                     'optional': True},\n",
       "                     'img': {'base': 'file',\n",
       "                             'description': 'asl or structural image ',\n",
       "                             'optional': True},\n",
       "                     'm0': {'base': 'file',\n",
       "                            'description': 'M0 images for cbf calibration',\n",
       "                            'optional': True},\n",
       "                     'taskfile': {'base': 'file',\n",
       "                                  'description': 'eventtimes files with json  ',\n",
       "                                  'optional': True}},\n",
       "          'label': 'XCPENGINE: pipeline for processing of  structural and '\n",
       "                   'functional data.',\n",
       "          'license': 'Other',\n",
       "          'maintainer': 'Ted Satterthwaite',\n",
       "          'name': 'xcpengine-fw',\n",
       "          'source': 'https://github.com/PennBBL/xcpEngine',\n",
       "          'url': 'https://xcpengine.readthedocs.io/',\n",
       "          'version': '0.0.1_1.00'},\n",
       " 'id': '5e769beb7204d510e7cfcf81',\n",
       " 'modified': datetime.datetime(2020, 3, 21, 22, 57, 47, 163000, tzinfo=tzutc())}"
      ]
     },
     "execution_count": 93,
     "metadata": {},
     "output_type": "execute_result"
    }
   ],
   "source": [
    "xcp # current version 0.0.1_1.00"
   ]
  },
  {
   "cell_type": "markdown",
   "metadata": {},
   "source": [
    "An additional input we need is the design file, which is attached to the project. We use the CBF basil strategy, which is in the name of the design file."
   ]
  },
  {
   "cell_type": "code",
   "execution_count": 94,
   "metadata": {
    "scrolled": true
   },
   "outputs": [
    {
     "data": {
      "text/plain": [
       "{'classification': {},\n",
       " 'created': datetime.datetime(2020, 3, 24, 15, 19, 37, 604000, tzinfo=tzutc()),\n",
       " 'hash': 'v0-sha384-9e7b971e2575dda29f187fe3e42e5f6b0708cb3cf2f6da4d42e43238c54143f22518caff48bfc61dd715de5280e15015',\n",
       " 'id': '310ea9c5-83e8-443f-ad11-4fa3776f150f',\n",
       " 'info': {},\n",
       " 'info_exists': None,\n",
       " 'mimetype': 'application/octet-stream',\n",
       " 'modality': None,\n",
       " 'modified': datetime.datetime(2020, 3, 24, 15, 19, 36, 695000, tzinfo=tzutc()),\n",
       " 'name': 'task_acompcor_alff_reho_fcon.dsn',\n",
       " 'origin': {'id': 'larsenb@upenn.edu',\n",
       "            'method': None,\n",
       "            'name': None,\n",
       "            'type': 'user',\n",
       "            'via': None},\n",
       " 'replaced': None,\n",
       " 'size': 3432,\n",
       " 'tags': [],\n",
       " 'type': None,\n",
       " 'zip_member_count': None}"
      ]
     },
     "execution_count": 94,
     "metadata": {},
     "output_type": "execute_result"
    }
   ],
   "source": [
    "designFile = [x for x in proj.files if \"task_acompcor_GSR_alff_reho_fcon\" in x.name][0]\n",
    "designFile = proj.get_file(designFile.name)\n",
    "designFile"
   ]
  },
  {
   "cell_type": "markdown",
   "metadata": {},
   "source": [
    "And here's how we run it:"
   ]
  },
  {
   "cell_type": "code",
   "execution_count": 8,
   "metadata": {},
   "outputs": [
    {
     "ename": "NameError",
     "evalue": "name 'sessions' is not defined",
     "output_type": "error",
     "traceback": [
      "\u001b[0;31m---------------------------------------------------------------------------\u001b[0m",
      "\u001b[0;31mNameError\u001b[0m                                 Traceback (most recent call last)",
      "\u001b[0;32m<ipython-input-8-92d23a7df633>\u001b[0m in \u001b[0;36m<module>\u001b[0;34m()\u001b[0m\n\u001b[0;32m----> 1\u001b[0;31m \u001b[0meg\u001b[0m \u001b[0;34m=\u001b[0m \u001b[0msessions\u001b[0m\u001b[0;34m[\u001b[0m\u001b[0;36m0\u001b[0m\u001b[0;34m]\u001b[0m\u001b[0;34m\u001b[0m\u001b[0m\n\u001b[0m\u001b[1;32m      2\u001b[0m \u001b[0;34m\u001b[0m\u001b[0m\n\u001b[1;32m      3\u001b[0m \u001b[0mtaskfile\u001b[0m \u001b[0;34m=\u001b[0m \u001b[0mget_taskfile\u001b[0m\u001b[0;34m(\u001b[0m\u001b[0meg\u001b[0m\u001b[0;34m)\u001b[0m\u001b[0;34m\u001b[0m\u001b[0m\n\u001b[1;32m      4\u001b[0m \u001b[0mfmriprep\u001b[0m \u001b[0;34m=\u001b[0m \u001b[0mget_latest_fmriprep\u001b[0m\u001b[0;34m(\u001b[0m\u001b[0meg\u001b[0m\u001b[0;34m)\u001b[0m\u001b[0;34m\u001b[0m\u001b[0m\n\u001b[1;32m      5\u001b[0m \u001b[0;34m\u001b[0m\u001b[0m\n",
      "\u001b[0;31mNameError\u001b[0m: name 'sessions' is not defined"
     ]
    }
   ],
   "source": [
    "eg = sessions[0]\n",
    "\n",
    "taskfile = get_taskfile(eg)\n",
    "fmriprep = get_latest_fmriprep(eg)\n",
    "\n",
    "eg\n"
   ]
  },
  {
   "cell_type": "code",
   "execution_count": 97,
   "metadata": {},
   "outputs": [],
   "source": [
    "myconfig = {\n",
    "    'analysis_type': 'task_acompcor_GSR_alff_reho_fcon'\n",
    "}\n",
    "\n",
    "myinput = {\n",
    "    #'antsct': struc,\n",
    "    'fmriprepdir': fmriprep,\n",
    "    'designfile': designFile,\n",
    "    'taskfile': taskfile\n",
    "    #'img': asl\n",
    "}\n",
    "#xcp.run(analysis_label=\"XCP_SDK_CBF_{}\".format(datetime.datetime.now()), destination=eg, inputs=myinput, config=myconfig)\n",
    "\n",
    "#returns the jobID"
   ]
  },
  {
   "cell_type": "code",
   "execution_count": 98,
   "metadata": {},
   "outputs": [
    {
     "data": {
      "text/plain": [
       "'002258'"
      ]
     },
     "execution_count": 98,
     "metadata": {},
     "output_type": "execute_result"
    }
   ],
   "source": [
    "eg.label"
   ]
  },
  {
   "cell_type": "markdown",
   "metadata": {},
   "source": [
    "Now we run on each session:"
   ]
  },
  {
   "cell_type": "code",
   "execution_count": 115,
   "metadata": {
    "scrolled": true
   },
   "outputs": [],
   "source": [
    "xcp_runs = {}\n",
    "\n",
    "for i, x in enumerate(sessions):\n",
    "    ses = fw.get(x.id)\n",
    "\n",
    "    #struc = get_latest_struct(ses)\n",
    "    fmriprep = get_latest_fmriprep(ses)\n",
    "    taskfile1 = get_taskfile(ses)\n",
    "    \n",
    "    if  fmriprep and taskfile1 :\n",
    "        myconfig = {\n",
    "            'analysis_type': 'task_acompcor_GSR_alff_reho_fcon',\n",
    "            'task_name' :'emotionid'\n",
    "        }\n",
    "\n",
    "        myinput = {\n",
    "            'fmriprepdir': fmriprep,\n",
    "            'designfile': designFile,\n",
    "            'taskfile': taskfile1,\n",
    "        }\n",
    "        jobid = xcp.run(analysis_label=\"XCP_SDK_TASK_GSR{}\".format(datetime.datetime.now()), destination=ses, inputs=myinput, config=myconfig)\n",
    "        xcp_runs[ses.label] = jobid\n",
    "    else:\n",
    "        xcp_runs[ses.label] = None"
   ]
  },
  {
   "cell_type": "markdown",
   "metadata": {},
   "source": [
    "Here are the job IDs:"
   ]
  },
  {
   "cell_type": "code",
   "execution_count": 117,
   "metadata": {},
   "outputs": [
    {
     "data": {
      "text/plain": [
       "96"
      ]
     },
     "execution_count": 117,
     "metadata": {},
     "output_type": "execute_result"
    }
   ],
   "source": [
    "len(xcp_runs)"
   ]
  },
  {
   "cell_type": "markdown",
   "metadata": {},
   "source": [
    "The reason many didn't run is that 80 is too large a number of volumes for some of the functional ASL scans. Instead, we will redefine the function for ASL and set the floor at 20 and an even number of volumes"
   ]
  }
 ],
 "metadata": {
  "kernelspec": {
   "display_name": "Python 2",
   "language": "python",
   "name": "python2"
  },
  "language_info": {
   "codemirror_mode": {
    "name": "ipython",
    "version": 2
   },
   "file_extension": ".py",
   "mimetype": "text/x-python",
   "name": "python",
   "nbconvert_exporter": "python",
   "pygments_lexer": "ipython2",
   "version": "2.7.15"
  }
 },
 "nbformat": 4,
 "nbformat_minor": 2
}
